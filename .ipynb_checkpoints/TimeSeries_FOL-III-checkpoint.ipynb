{
 "cells": [
  {
   "cell_type": "code",
   "execution_count": 1,
   "metadata": {},
   "outputs": [],
   "source": [
    "import pandas as pd\n",
    "import numpy as np\n",
    "import matplotlib.pyplot as plt\n",
    "%matplotlib inline\n",
    "from datetime import datetime\n",
    "from pandas import Series\n",
    "import warnings\n",
    "warnings.filterwarnings(\"ignore\")\n",
    "plt.style.use('fivethirtyeight')"
   ]
  },
  {
   "cell_type": "code",
   "execution_count": 2,
   "metadata": {},
   "outputs": [
    {
     "ename": "FileNotFoundError",
     "evalue": "[Errno 2] File b'Train_SU63ISt.csv' does not exist: b'Train_SU63ISt.csv'",
     "output_type": "error",
     "traceback": [
      "\u001b[0;31m---------------------------------------------------------------------------\u001b[0m",
      "\u001b[0;31mFileNotFoundError\u001b[0m                         Traceback (most recent call last)",
      "\u001b[0;32m<ipython-input-2-9349776b33ec>\u001b[0m in \u001b[0;36m<module>\u001b[0;34m()\u001b[0m\n\u001b[0;32m----> 1\u001b[0;31m \u001b[0mtrain\u001b[0m \u001b[0;34m=\u001b[0m \u001b[0mpd\u001b[0m\u001b[0;34m.\u001b[0m\u001b[0mread_csv\u001b[0m\u001b[0;34m(\u001b[0m\u001b[0;34m\"Train_SU63ISt.csv\"\u001b[0m\u001b[0;34m)\u001b[0m\u001b[0;34m\u001b[0m\u001b[0m\n\u001b[0m\u001b[1;32m      2\u001b[0m \u001b[0mtest\u001b[0m \u001b[0;34m=\u001b[0m \u001b[0mpd\u001b[0m\u001b[0;34m.\u001b[0m\u001b[0mread_csv\u001b[0m\u001b[0;34m(\u001b[0m\u001b[0;34m\"Test_0qrQsBZ.csv\"\u001b[0m\u001b[0;34m)\u001b[0m\u001b[0;34m\u001b[0m\u001b[0m\n",
      "\u001b[0;32m~/anaconda2/envs/tensorflow_py3/lib/python3.5/site-packages/pandas/io/parsers.py\u001b[0m in \u001b[0;36mparser_f\u001b[0;34m(filepath_or_buffer, sep, delimiter, header, names, index_col, usecols, squeeze, prefix, mangle_dupe_cols, dtype, engine, converters, true_values, false_values, skipinitialspace, skiprows, skipfooter, nrows, na_values, keep_default_na, na_filter, verbose, skip_blank_lines, parse_dates, infer_datetime_format, keep_date_col, date_parser, dayfirst, iterator, chunksize, compression, thousands, decimal, lineterminator, quotechar, quoting, doublequote, escapechar, comment, encoding, dialect, tupleize_cols, error_bad_lines, warn_bad_lines, delim_whitespace, low_memory, memory_map, float_precision)\u001b[0m\n\u001b[1;32m    700\u001b[0m                     skip_blank_lines=skip_blank_lines)\n\u001b[1;32m    701\u001b[0m \u001b[0;34m\u001b[0m\u001b[0m\n\u001b[0;32m--> 702\u001b[0;31m         \u001b[0;32mreturn\u001b[0m \u001b[0m_read\u001b[0m\u001b[0;34m(\u001b[0m\u001b[0mfilepath_or_buffer\u001b[0m\u001b[0;34m,\u001b[0m \u001b[0mkwds\u001b[0m\u001b[0;34m)\u001b[0m\u001b[0;34m\u001b[0m\u001b[0m\n\u001b[0m\u001b[1;32m    703\u001b[0m \u001b[0;34m\u001b[0m\u001b[0m\n\u001b[1;32m    704\u001b[0m     \u001b[0mparser_f\u001b[0m\u001b[0;34m.\u001b[0m\u001b[0m__name__\u001b[0m \u001b[0;34m=\u001b[0m \u001b[0mname\u001b[0m\u001b[0;34m\u001b[0m\u001b[0m\n",
      "\u001b[0;32m~/anaconda2/envs/tensorflow_py3/lib/python3.5/site-packages/pandas/io/parsers.py\u001b[0m in \u001b[0;36m_read\u001b[0;34m(filepath_or_buffer, kwds)\u001b[0m\n\u001b[1;32m    427\u001b[0m \u001b[0;34m\u001b[0m\u001b[0m\n\u001b[1;32m    428\u001b[0m     \u001b[0;31m# Create the parser.\u001b[0m\u001b[0;34m\u001b[0m\u001b[0;34m\u001b[0m\u001b[0m\n\u001b[0;32m--> 429\u001b[0;31m     \u001b[0mparser\u001b[0m \u001b[0;34m=\u001b[0m \u001b[0mTextFileReader\u001b[0m\u001b[0;34m(\u001b[0m\u001b[0mfilepath_or_buffer\u001b[0m\u001b[0;34m,\u001b[0m \u001b[0;34m**\u001b[0m\u001b[0mkwds\u001b[0m\u001b[0;34m)\u001b[0m\u001b[0;34m\u001b[0m\u001b[0m\n\u001b[0m\u001b[1;32m    430\u001b[0m \u001b[0;34m\u001b[0m\u001b[0m\n\u001b[1;32m    431\u001b[0m     \u001b[0;32mif\u001b[0m \u001b[0mchunksize\u001b[0m \u001b[0;32mor\u001b[0m \u001b[0miterator\u001b[0m\u001b[0;34m:\u001b[0m\u001b[0;34m\u001b[0m\u001b[0m\n",
      "\u001b[0;32m~/anaconda2/envs/tensorflow_py3/lib/python3.5/site-packages/pandas/io/parsers.py\u001b[0m in \u001b[0;36m__init__\u001b[0;34m(self, f, engine, **kwds)\u001b[0m\n\u001b[1;32m    893\u001b[0m             \u001b[0mself\u001b[0m\u001b[0;34m.\u001b[0m\u001b[0moptions\u001b[0m\u001b[0;34m[\u001b[0m\u001b[0;34m'has_index_names'\u001b[0m\u001b[0;34m]\u001b[0m \u001b[0;34m=\u001b[0m \u001b[0mkwds\u001b[0m\u001b[0;34m[\u001b[0m\u001b[0;34m'has_index_names'\u001b[0m\u001b[0;34m]\u001b[0m\u001b[0;34m\u001b[0m\u001b[0m\n\u001b[1;32m    894\u001b[0m \u001b[0;34m\u001b[0m\u001b[0m\n\u001b[0;32m--> 895\u001b[0;31m         \u001b[0mself\u001b[0m\u001b[0;34m.\u001b[0m\u001b[0m_make_engine\u001b[0m\u001b[0;34m(\u001b[0m\u001b[0mself\u001b[0m\u001b[0;34m.\u001b[0m\u001b[0mengine\u001b[0m\u001b[0;34m)\u001b[0m\u001b[0;34m\u001b[0m\u001b[0m\n\u001b[0m\u001b[1;32m    896\u001b[0m \u001b[0;34m\u001b[0m\u001b[0m\n\u001b[1;32m    897\u001b[0m     \u001b[0;32mdef\u001b[0m \u001b[0mclose\u001b[0m\u001b[0;34m(\u001b[0m\u001b[0mself\u001b[0m\u001b[0;34m)\u001b[0m\u001b[0;34m:\u001b[0m\u001b[0;34m\u001b[0m\u001b[0m\n",
      "\u001b[0;32m~/anaconda2/envs/tensorflow_py3/lib/python3.5/site-packages/pandas/io/parsers.py\u001b[0m in \u001b[0;36m_make_engine\u001b[0;34m(self, engine)\u001b[0m\n\u001b[1;32m   1120\u001b[0m     \u001b[0;32mdef\u001b[0m \u001b[0m_make_engine\u001b[0m\u001b[0;34m(\u001b[0m\u001b[0mself\u001b[0m\u001b[0;34m,\u001b[0m \u001b[0mengine\u001b[0m\u001b[0;34m=\u001b[0m\u001b[0;34m'c'\u001b[0m\u001b[0;34m)\u001b[0m\u001b[0;34m:\u001b[0m\u001b[0;34m\u001b[0m\u001b[0m\n\u001b[1;32m   1121\u001b[0m         \u001b[0;32mif\u001b[0m \u001b[0mengine\u001b[0m \u001b[0;34m==\u001b[0m \u001b[0;34m'c'\u001b[0m\u001b[0;34m:\u001b[0m\u001b[0;34m\u001b[0m\u001b[0m\n\u001b[0;32m-> 1122\u001b[0;31m             \u001b[0mself\u001b[0m\u001b[0;34m.\u001b[0m\u001b[0m_engine\u001b[0m \u001b[0;34m=\u001b[0m \u001b[0mCParserWrapper\u001b[0m\u001b[0;34m(\u001b[0m\u001b[0mself\u001b[0m\u001b[0;34m.\u001b[0m\u001b[0mf\u001b[0m\u001b[0;34m,\u001b[0m \u001b[0;34m**\u001b[0m\u001b[0mself\u001b[0m\u001b[0;34m.\u001b[0m\u001b[0moptions\u001b[0m\u001b[0;34m)\u001b[0m\u001b[0;34m\u001b[0m\u001b[0m\n\u001b[0m\u001b[1;32m   1123\u001b[0m         \u001b[0;32melse\u001b[0m\u001b[0;34m:\u001b[0m\u001b[0;34m\u001b[0m\u001b[0m\n\u001b[1;32m   1124\u001b[0m             \u001b[0;32mif\u001b[0m \u001b[0mengine\u001b[0m \u001b[0;34m==\u001b[0m \u001b[0;34m'python'\u001b[0m\u001b[0;34m:\u001b[0m\u001b[0;34m\u001b[0m\u001b[0m\n",
      "\u001b[0;32m~/anaconda2/envs/tensorflow_py3/lib/python3.5/site-packages/pandas/io/parsers.py\u001b[0m in \u001b[0;36m__init__\u001b[0;34m(self, src, **kwds)\u001b[0m\n\u001b[1;32m   1851\u001b[0m         \u001b[0mkwds\u001b[0m\u001b[0;34m[\u001b[0m\u001b[0;34m'usecols'\u001b[0m\u001b[0;34m]\u001b[0m \u001b[0;34m=\u001b[0m \u001b[0mself\u001b[0m\u001b[0;34m.\u001b[0m\u001b[0musecols\u001b[0m\u001b[0;34m\u001b[0m\u001b[0m\n\u001b[1;32m   1852\u001b[0m \u001b[0;34m\u001b[0m\u001b[0m\n\u001b[0;32m-> 1853\u001b[0;31m         \u001b[0mself\u001b[0m\u001b[0;34m.\u001b[0m\u001b[0m_reader\u001b[0m \u001b[0;34m=\u001b[0m \u001b[0mparsers\u001b[0m\u001b[0;34m.\u001b[0m\u001b[0mTextReader\u001b[0m\u001b[0;34m(\u001b[0m\u001b[0msrc\u001b[0m\u001b[0;34m,\u001b[0m \u001b[0;34m**\u001b[0m\u001b[0mkwds\u001b[0m\u001b[0;34m)\u001b[0m\u001b[0;34m\u001b[0m\u001b[0m\n\u001b[0m\u001b[1;32m   1854\u001b[0m         \u001b[0mself\u001b[0m\u001b[0;34m.\u001b[0m\u001b[0munnamed_cols\u001b[0m \u001b[0;34m=\u001b[0m \u001b[0mself\u001b[0m\u001b[0;34m.\u001b[0m\u001b[0m_reader\u001b[0m\u001b[0;34m.\u001b[0m\u001b[0munnamed_cols\u001b[0m\u001b[0;34m\u001b[0m\u001b[0m\n\u001b[1;32m   1855\u001b[0m \u001b[0;34m\u001b[0m\u001b[0m\n",
      "\u001b[0;32mpandas/_libs/parsers.pyx\u001b[0m in \u001b[0;36mpandas._libs.parsers.TextReader.__cinit__\u001b[0;34m()\u001b[0m\n",
      "\u001b[0;32mpandas/_libs/parsers.pyx\u001b[0m in \u001b[0;36mpandas._libs.parsers.TextReader._setup_parser_source\u001b[0;34m()\u001b[0m\n",
      "\u001b[0;31mFileNotFoundError\u001b[0m: [Errno 2] File b'Train_SU63ISt.csv' does not exist: b'Train_SU63ISt.csv'"
     ]
    }
   ],
   "source": [
    "train = pd.read_csv(\"Train_SU63ISt.csv\")\n",
    "test = pd.read_csv(\"Test_0qrQsBZ.csv\")"
   ]
  },
  {
   "cell_type": "markdown",
   "metadata": {},
   "source": [
    "***Make copy of Original***"
   ]
  },
  {
   "cell_type": "code",
   "execution_count": null,
   "metadata": {},
   "outputs": [],
   "source": [
    "train_original = train.copy()\n",
    "test_original = test.copy()"
   ]
  },
  {
   "cell_type": "code",
   "execution_count": null,
   "metadata": {},
   "outputs": [],
   "source": [
    "train.columns, test.columns"
   ]
  },
  {
   "cell_type": "code",
   "execution_count": null,
   "metadata": {},
   "outputs": [],
   "source": [
    "train.dtypes,test.dtypes"
   ]
  },
  {
   "cell_type": "code",
   "execution_count": null,
   "metadata": {},
   "outputs": [],
   "source": [
    "train.shape, test.shape"
   ]
  },
  {
   "cell_type": "markdown",
   "metadata": {},
   "source": [
    "***Extract Features from Time***"
   ]
  },
  {
   "cell_type": "code",
   "execution_count": null,
   "metadata": {},
   "outputs": [],
   "source": [
    "train['Datetime'] = pd.to_datetime(train.Datetime, format = '%d-%m-%Y %H:%M')\n",
    "test['Datetime'] = pd.to_datetime(test.Datetime, format = '%d-%m-%Y %H:%M')\n",
    "train_original['Datetime'] = pd.to_datetime(train_original.Datetime, format = '%d-%m-%Y %H:%M')\n",
    "test_original['Datetime'] = pd.to_datetime(test_original.Datetime, format = '%d-%m-%Y %H:%M')"
   ]
  },
  {
   "cell_type": "code",
   "execution_count": null,
   "metadata": {},
   "outputs": [],
   "source": [
    "for i in (train, test, train_original, test_original):\n",
    "    i['year'] = i.Datetime.dt.year\n",
    "    i['month'] = i.Datetime.dt.month\n",
    "    i['day']= i.Datetime.dt.day\n",
    "    i['Hour']=i.Datetime.dt.hour"
   ]
  },
  {
   "cell_type": "code",
   "execution_count": null,
   "metadata": {},
   "outputs": [],
   "source": [
    "train['Day of week'] = train['Datetime'].dt.dayofweek\n",
    "temp = train['Datetime']\n"
   ]
  },
  {
   "cell_type": "code",
   "execution_count": null,
   "metadata": {},
   "outputs": [],
   "source": [
    "def applyer(row):\n",
    "    if row.dayofweek == 5 or row.dayofweek == 6:\n",
    "        return 1\n",
    "    else:\n",
    "        return 0\n",
    "    \n",
    "temp2 = train['Datetime'].apply(applyer)\n",
    "train['weekend'] = temp2\n"
   ]
  },
  {
   "cell_type": "code",
   "execution_count": null,
   "metadata": {},
   "outputs": [],
   "source": [
    "train.index = train['Datetime']\n",
    "df = train.drop('ID',1)\n",
    "ts = df['Count']\n",
    "plt.figure(figsize = (16,8))\n",
    "plt.plot(ts)\n",
    "plt.title(\"Time Series\")\n",
    "plt.xlabel(\"Time (year-month)\")\n",
    "plt.ylabel(\"Passenger Count\")\n",
    "plt.legend(loc = 'best')"
   ]
  },
  {
   "cell_type": "markdown",
   "metadata": {},
   "source": [
    "*** Exploratory Analysis***"
   ]
  },
  {
   "cell_type": "code",
   "execution_count": null,
   "metadata": {},
   "outputs": [],
   "source": [
    "train.groupby('year')['Count'].mean().plot.bar()"
   ]
  },
  {
   "cell_type": "code",
   "execution_count": null,
   "metadata": {},
   "outputs": [],
   "source": [
    "train.groupby('month')['Count'].mean().plot.bar()"
   ]
  },
  {
   "cell_type": "code",
   "execution_count": null,
   "metadata": {},
   "outputs": [],
   "source": [
    "temp = train.groupby(['year', 'month'])['Count'].mean()\n",
    "temp.plot(figsize =(15,5), title = \"Passenger Count(Monthwise)\", fontsize = 14)"
   ]
  },
  {
   "cell_type": "code",
   "execution_count": null,
   "metadata": {},
   "outputs": [],
   "source": [
    "train.groupby('day') ['Count'].mean().plot.bar()"
   ]
  },
  {
   "cell_type": "code",
   "execution_count": null,
   "metadata": {},
   "outputs": [],
   "source": [
    "train.groupby('Hour')['Count'].mean().plot.bar()"
   ]
  },
  {
   "cell_type": "code",
   "execution_count": null,
   "metadata": {},
   "outputs": [],
   "source": [
    "train.groupby('weekend') ['Count'].mean().plot.bar()"
   ]
  },
  {
   "cell_type": "code",
   "execution_count": null,
   "metadata": {},
   "outputs": [],
   "source": [
    "train.groupby('Day of week') ['Count'].mean().plot.bar()"
   ]
  },
  {
   "cell_type": "code",
   "execution_count": null,
   "metadata": {},
   "outputs": [],
   "source": [
    "train.Timestamp = pd.to_datetime(train.Datetime, format = '%d-%m-%y %H:%M')\n",
    "train.index = train.Timestamp\n",
    "\n",
    "#Hourly\n",
    "hourly = train.resample('H').mean()\n",
    "\n",
    "#Daily\n",
    "daily = train.resample('D').mean()\n",
    "\n",
    "#Weekly\n",
    "weekly = train.resample('W').mean()\n",
    "\n",
    "#Monthly\n",
    "monthly = train.resample('M').mean()"
   ]
  },
  {
   "cell_type": "code",
   "execution_count": null,
   "metadata": {},
   "outputs": [],
   "source": [
    "fig,axs = plt.subplots(4,1)\n",
    "\n",
    "hourly.Count.plot(figsize = (15,8), title = \"Hourly\", fontsize = 14, ax = axs[0])\n",
    "daily.Count.plot(figsize = (15,8), title = \"Daily\", fontsize = 14, ax = axs[1])\n",
    "weekly.Count.plot(figsize = (15,8), title = \"Weekly\", fontsize = 14, ax = axs[2])\n",
    "monthly.Count.plot(figsize = (15,8), title = \"Monthly\", fontsize = 14, ax = axs[3])"
   ]
  },
  {
   "cell_type": "code",
   "execution_count": null,
   "metadata": {},
   "outputs": [],
   "source": [
    "test.Timestamp = pd.to_datetime(test.Datetime, format='%d-%m-%Y %H:%M')\n",
    "test.index = test.Timestamp\n",
    "\n",
    "#Converting to Daily mean \n",
    "test = test.resample('D').mean()\n",
    "\n",
    "train.Timestamp = pd.to_datetime(train.Datetime, format='%d-%m-%Y %H:%M')\n",
    "train.index = train.Timestamp\n",
    "\n",
    "#Converting to Daily mean\n",
    "train = train.resample('D').mean()"
   ]
  },
  {
   "cell_type": "markdown",
   "metadata": {
    "collapsed": true
   },
   "source": [
    "***Divide data into training and validation***"
   ]
  },
  {
   "cell_type": "code",
   "execution_count": null,
   "metadata": {},
   "outputs": [],
   "source": [
    "Train = train.ix['2012-08-25':'2014-06-24']\n",
    "valid = train.ix['2014-06-25':'2014-09-25']"
   ]
  },
  {
   "cell_type": "code",
   "execution_count": null,
   "metadata": {},
   "outputs": [],
   "source": [
    "Train.Count.plot(figsize = (15,8), title = 'Daily Ridership', fontsize = 14, label = 'Train')\n",
    "valid.Count.plot(figsize = (15,8), title = 'Daily Ridership', fontsize =14, label = 'Valid')\n",
    "plt.xlabel('Datetime')\n",
    "plt.ylabel('Passenger Count')\n",
    "plt.legend(loc = 'best')"
   ]
  },
  {
   "cell_type": "markdown",
   "metadata": {},
   "source": [
    "** Naive Approach**"
   ]
  },
  {
   "cell_type": "code",
   "execution_count": null,
   "metadata": {},
   "outputs": [],
   "source": [
    "dd = np.asarray(Train.Count)\n",
    "y_hat =valid.copy()\n",
    "y_hat['naive']= dd[len(dd)- 1]\n",
    "plt.figure(figsize = (12,8))\n",
    "plt.plot(Train.index, Train['Count'],label = 'Train')\n",
    "plt.plot(valid.index, valid['Count'], label = 'Validation')\n",
    "plt.plot(y_hat.index, y_hat['naive'],  label = 'Naive')\n",
    "plt.legend(loc = 'best')\n",
    "plt.title('Naive Forecast')"
   ]
  },
  {
   "cell_type": "markdown",
   "metadata": {},
   "source": [
    "*** Calculate RMS Error for Naive Approach***"
   ]
  },
  {
   "cell_type": "code",
   "execution_count": null,
   "metadata": {},
   "outputs": [],
   "source": [
    "from sklearn.metrics import mean_squared_error\n",
    "from math import sqrt\n",
    "rmse = sqrt(mean_squared_error(valid.Count, y_hat.naive))\n",
    "rmse"
   ]
  },
  {
   "cell_type": "code",
   "execution_count": null,
   "metadata": {},
   "outputs": [],
   "source": [
    "y_hat_avg = valid.copy()\n",
    "y_hat_avg['moving_average_forecast'] = Train['Count'].rolling(10).mean().iloc[-1]\n",
    "plt.figure(figsize = (15,5))\n",
    "plt.plot(Train['Count'], label = 'Train')\n",
    "plt.plot(valid['Count'], label = 'Validation')\n",
    "plt.plot(y_hat_avg['moving_average_forecast'], label = 'Moving Average Forecast with 10 Observations')\n",
    "plt.legend(loc = 'best')\n",
    "plt.show()\n",
    "y_hat_avg = valid.copy()\n",
    "y_hat_avg['moving_average_forecast'] = Train['Count'].rolling(20).mean().iloc[-1]\n",
    "plt.figure(figsize = (15,5))\n",
    "plt.plot(Train['Count'], label = 'Train')\n",
    "plt.plot(valid['Count'], label = 'Validation')\n",
    "plt.plot(y_hat_avg['moving_average_forecast'],label = 'Moving Average Forecast with 20 Observations')\n",
    "plt.legend(loc = 'best')\n",
    "plt.show()\n",
    "y_hat_avg = valid.copy()\n",
    "y_hat_avg['moving_average_forecast']= Train['Count'].rolling(50).mean().iloc[-1]\n",
    "plt.figure(figsize = (15,5))\n",
    "plt.plot(Train['Count'], label = 'Train')\n",
    "plt.plot(valid['Count'], label = 'Validation')\n",
    "plt.plot(y_hat_avg['moving_average_forecast'], label = \"Moving Average Forecast with 50 Observations\")\n",
    "plt.legend(loc = 'best')\n",
    "plt.show()"
   ]
  },
  {
   "cell_type": "markdown",
   "metadata": {},
   "source": [
    "***RMS Error for Moving Average***"
   ]
  },
  {
   "cell_type": "code",
   "execution_count": null,
   "metadata": {},
   "outputs": [],
   "source": [
    "rmse = sqrt(mean_squared_error(valid['Count'], y_hat_avg['moving_average_forecast']))\n",
    "rmse"
   ]
  },
  {
   "cell_type": "markdown",
   "metadata": {},
   "source": [
    "***Simple Exponential Smoothing***"
   ]
  },
  {
   "cell_type": "code",
   "execution_count": null,
   "metadata": {},
   "outputs": [],
   "source": [
    "from statsmodels.tsa.api import ExponentialSmoothing,SimpleExpSmoothing, Holt\n",
    "\n",
    "y_hat = valid.copy()\n",
    "fit2 = SimpleExpSmoothing(np.asarray(Train['Count'])).fit(smoothing_level = 0.6,optimized = False)\n",
    "y_hat['SES'] = fit2.forecast(len(valid))\n",
    "plt.figure(figsize =(15,8))\n",
    "plt.plot(Train['Count'], label = 'Train')\n",
    "plt.plot(valid['Count'], label = 'Validation')\n",
    "plt.plot(y_hat['SES'], label = 'Simple Exponential Smoothing')\n",
    "plt.legend(loc = 'best')\n"
   ]
  },
  {
   "cell_type": "markdown",
   "metadata": {
    "collapsed": true
   },
   "source": [
    "***RMSE Error for Simple Exponential Smoothing***"
   ]
  },
  {
   "cell_type": "code",
   "execution_count": null,
   "metadata": {},
   "outputs": [],
   "source": [
    "rmse = sqrt(mean_squared_error(valid.Count, y_hat['SES']))\n",
    "rmse"
   ]
  },
  {
   "cell_type": "markdown",
   "metadata": {},
   "source": [
    "** Holt's Linear Trend Model**"
   ]
  },
  {
   "cell_type": "code",
   "execution_count": null,
   "metadata": {},
   "outputs": [],
   "source": [
    "plt.style.use('default')\n",
    "plt.figure(figsize = (16,8))\n",
    "import statsmodels.api as sm\n",
    "sm.tsa.seasonal_decompose(Train.Count).plot()\n",
    "result = sm.tsa.stattools.adfuller(train.Count)\n",
    "plt.show()"
   ]
  },
  {
   "cell_type": "code",
   "execution_count": null,
   "metadata": {},
   "outputs": [],
   "source": [
    "y_hat_holt = valid.copy()\n",
    "fit1 = Holt(np.asarray(Train['Count'])).fit(smoothing_level = 0.3, smoothing_slope = 0.1)\n",
    "y_hat_holt['Holt_linear'] = fit1.forecast(len(valid))\n",
    "plt.style.use('fivethirtyeight')\n",
    "plt.figure(figsize = (15,8))\n",
    "plt.plot(Train.Count, label = 'Train')\n",
    "plt.plot(valid.Count, label = 'Validation')\n",
    "plt.plot(y_hat_holt['Holt_linear'], label = 'Holt Linear')\n",
    "plt.legend(loc = 'best')"
   ]
  },
  {
   "cell_type": "code",
   "execution_count": null,
   "metadata": {},
   "outputs": [],
   "source": [
    "rmse = sqrt(mean_squared_error(valid.Count, y_hat_holt.Holt_linear))\n",
    "rmse"
   ]
  },
  {
   "cell_type": "markdown",
   "metadata": {},
   "source": [
    "*** Make Predictions on test set***"
   ]
  },
  {
   "cell_type": "code",
   "execution_count": null,
   "metadata": {},
   "outputs": [],
   "source": [
    "predict = fit1.forecast(len(test))\n",
    "test['prediction'] = predict"
   ]
  },
  {
   "cell_type": "code",
   "execution_count": null,
   "metadata": {},
   "outputs": [],
   "source": [
    "#Calculating hourly ration of count\n",
    "train_original['ratio'] = train_original['Count']/train_original['Count'].sum()\n",
    "\n",
    "#Grouping hourly ratio\n",
    "temp = train_original.groupby(['Hour']) ['ratio'].sum()\n",
    "\n",
    "#Group by to csv format\n",
    "pd.DataFrame(temp, columns= ['Hour', 'ratio']).to_csv('Groupby.csv')\n",
    "temp2 = pd.read_csv(\"Groupby.csv\")\n",
    "temp2 =temp2.drop('Hour.1',1)\n",
    "#Merge test and test_original on day, month and year\n",
    "merge = pd.merge(test, test_original, on = ('day', 'month','year'), how = 'left')\n",
    "merge['Hour'] = merge['Hour_y']\n",
    "merge = merge.drop(['year','month','day','Hour_x','Datetime','Hour_y'], axis =1)\n",
    "\n",
    "#Predicting by merging temp2 and merge\n",
    "prediction = pd.merge(merge, temp2, on = 'Hour',how = 'left')\n",
    "\n",
    "#Converting the ration to original scale\n",
    "prediction['Count'] = prediction['prediction'] * prediction['ratio'] * 24\n",
    "prediction['ID'] = prediction['ID_y']\n",
    "prediction.head()"
   ]
  },
  {
   "cell_type": "code",
   "execution_count": null,
   "metadata": {},
   "outputs": [],
   "source": [
    "submission = prediction.drop(['ID_x','ID_y','prediction','Hour','ratio'], axis =1)\n",
    "pd.DataFrame(submission, columns = ['ID','Count']).to_csv('Holt_Linear.csv')"
   ]
  },
  {
   "cell_type": "markdown",
   "metadata": {},
   "source": [
    "**Holt Winter's Model**'"
   ]
  },
  {
   "cell_type": "code",
   "execution_count": null,
   "metadata": {},
   "outputs": [],
   "source": [
    "y_hat_avg = valid.copy()\n",
    "fit1 = ExponentialSmoothing(np.asarray(Train['Count']), seasonal_periods= 7, trend = 'add', seasonal= 'add').fit()\n",
    "y_hat_avg['Holt_Winter'] = fit1.forecast(len(valid))\n",
    "plt.figure(figsize = (16,8))\n",
    "plt.plot(Train['Count'], label = 'Train')\n",
    "plt.plot(valid['Count'], label = 'Validation')\n",
    "plt.plot(y_hat_avg.Holt_Winter, label = 'Holt Winters')\n",
    "plt.legend(loc = 'best')"
   ]
  },
  {
   "cell_type": "code",
   "execution_count": null,
   "metadata": {},
   "outputs": [],
   "source": [
    "rmse = sqrt(mean_squared_error(valid['Count'], y_hat_avg['Holt_Winter']))\n",
    "rmse"
   ]
  },
  {
   "cell_type": "markdown",
   "metadata": {},
   "source": [
    "***Apply Holt Winter's on test data***"
   ]
  },
  {
   "cell_type": "code",
   "execution_count": null,
   "metadata": {},
   "outputs": [],
   "source": [
    "predict = fit1.forecast(len(test))\n",
    "test['prediction'] = predict"
   ]
  },
  {
   "cell_type": "code",
   "execution_count": null,
   "metadata": {},
   "outputs": [],
   "source": [
    "#Merge test and test_original on day,month and year\n",
    "merge = pd.merge(test, test_original, on = ('day', 'month', 'year'), how = 'left')\n",
    "merge['Hour']= merge['Hour_y']\n",
    "merge.head()\n",
    "merge = merge.drop(['year', 'month', 'Datetime','Hour_x', 'Hour_y'], axis =1)\n",
    "\n",
    "#Predicting by merge and temp2\n",
    "prediction = pd.merge(merge, temp2 , on = 'Hour', how = 'left')\n",
    "\n",
    "#Converting the ration to original scale\n",
    "prediction['Count'] = prediction['prediction'] * prediction['ratio'] *24\n",
    "prediction.head()"
   ]
  },
  {
   "cell_type": "code",
   "execution_count": null,
   "metadata": {},
   "outputs": [],
   "source": [
    "prediction['ID']= prediction['ID_y']\n",
    "submission = prediction.drop(['ID_x','ID_y','day','Hour','prediction','ratio'], axis =1)\n",
    "\n",
    "pd.DataFrame(submission, columns = ['ID','Count']).to_csv('Holt winters.csv')"
   ]
  },
  {
   "cell_type": "markdown",
   "metadata": {
    "collapsed": true
   },
   "source": [
    "***ARIMA Model***"
   ]
  },
  {
   "cell_type": "code",
   "execution_count": null,
   "metadata": {},
   "outputs": [],
   "source": [
    "from statsmodels.tsa.stattools import adfuller\n",
    "def test_stationary(timeseries):\n",
    "    #Determine rolling statistics\n",
    "    rolmean = pd.rolling_mean(timeseries,window = 24)\n",
    "    rolstd = pd.rolling_std(timeseries, window = 24)\n",
    "    \n",
    "    #Plot rolling Statistics\n",
    "    orig = plt.plot(timeseries, color = \"blue\", label = \"Original\")\n",
    "    mean = plt.plot(rolmean, color = \"red\", label = \"Rolling Mean\")\n",
    "    std = plt.plot(rolstd, color = \"black\", label = \"Rolling Std\")\n",
    "    plt.legend(loc = \"best\")\n",
    "    plt.title(\"Rolling Mean and Standard Deviation\")\n",
    "    plt.show(block = False)\n",
    "    \n",
    "    #Perform Dickey Fuller test\n",
    "    print(\"Results of Dickey Fuller test: \")\n",
    "    dftest = adfuller(timeseries, autolag = 'AIC')\n",
    "    dfoutput = pd.Series(dftest[0:4], index = ['Test Statistics', 'p-value', '# Lag Used', 'Number of Observations Used'])\n",
    "    \n",
    "    for key,value in dftest[4].items():\n",
    "        dfoutput['Critical Value (%s)' %key] = value\n",
    "    print(dfoutput)"
   ]
  },
  {
   "cell_type": "code",
   "execution_count": null,
   "metadata": {},
   "outputs": [],
   "source": [
    "from matplotlib.pylab import rcParams\n",
    "rcParams['figure.figsize']=(20,10)\n",
    "test_stationary(train_original['Count'])"
   ]
  },
  {
   "cell_type": "markdown",
   "metadata": {},
   "source": [
    "**Remove Trend**"
   ]
  },
  {
   "cell_type": "code",
   "execution_count": null,
   "metadata": {},
   "outputs": [],
   "source": [
    "Train_log = np.log(Train['Count'])\n",
    "valid_log = np.log(valid['Count'])"
   ]
  },
  {
   "cell_type": "code",
   "execution_count": null,
   "metadata": {},
   "outputs": [],
   "source": [
    "moving_avg = pd.rolling_mean(Train_log,24)\n",
    "plt.plot(Train_log)\n",
    "plt.plot(moving_avg, color = 'red')\n"
   ]
  },
  {
   "cell_type": "code",
   "execution_count": null,
   "metadata": {},
   "outputs": [],
   "source": [
    "train_log_moving_diff = Train_log - moving_avg\n",
    "train_log_moving_diff.dropna(inplace = True)\n",
    "test_stationary(train_log_moving_diff)"
   ]
  },
  {
   "cell_type": "markdown",
   "metadata": {},
   "source": [
    "**Differncing can help to make series stable and eliminate trend**"
   ]
  },
  {
   "cell_type": "code",
   "execution_count": null,
   "metadata": {},
   "outputs": [],
   "source": [
    "train_log_diff = Train_log - Train_log.shift(1)\n",
    "test_stationary(train_log_diff.dropna())"
   ]
  },
  {
   "cell_type": "markdown",
   "metadata": {},
   "source": [
    "*** Removing Seasonailty***"
   ]
  },
  {
   "cell_type": "code",
   "execution_count": null,
   "metadata": {},
   "outputs": [],
   "source": [
    "from statsmodels.tsa.seasonal import seasonal_decompose\n",
    "plt.figure(figsize = (16,10))\n",
    "decomposition = seasonal_decompose(pd.DataFrame(Train_log).Count.values, freq = 24)\n",
    "plt.style.use('default')\n",
    "trend = decomposition.trend\n",
    "seasonal = decomposition.seasonal\n",
    "residual = decomposition.resid\n",
    "\n",
    "plt.subplot(411)\n",
    "plt.plot(Train_log, label = 'Original')\n",
    "plt.legend(loc = 'best')\n",
    "plt.subplot(412)\n",
    "plt.plot(trend, label = 'Trend')\n",
    "plt.legend(loc = 'best')\n",
    "plt.subplot(413)\n",
    "plt.plot(seasonal, label = 'Seasonal')\n",
    "plt.legend(loc = 'best')\n",
    "plt.subplot(414)\n",
    "plt.plot(residual, label = 'Residuals')\n",
    "plt.legend(loc = 'best')\n",
    "plt.tight_layout()\n"
   ]
  },
  {
   "cell_type": "markdown",
   "metadata": {
    "collapsed": true
   },
   "source": [
    "*** Let's check stationarity of residuals***"
   ]
  },
  {
   "cell_type": "code",
   "execution_count": null,
   "metadata": {},
   "outputs": [],
   "source": [
    "plt.figure(figsize = (16,8))\n",
    "train_log_decompose = pd.DataFrame(residual)\n",
    "train_log_decompose['date'] = Train_log.index\n",
    "train_log_decompose.set_index('date', inplace = True)\n",
    "train_log_decompose.dropna(inplace = True)\n",
    "test_stationary(train_log_decompose[0])"
   ]
  },
  {
   "cell_type": "code",
   "execution_count": null,
   "metadata": {},
   "outputs": [],
   "source": [
    "from statsmodels.tsa.stattools import acf, pacf\n",
    "\n",
    "lag_acf = acf(train_log_diff.dropna(), nlags = 25)\n",
    "lag_pacf = pacf(train_log_diff.dropna(), nlags = 25, method= \"ols\")"
   ]
  },
  {
   "cell_type": "code",
   "execution_count": null,
   "metadata": {},
   "outputs": [],
   "source": [
    "plt.figure(figsize = (15,8))\n",
    "plt.style.use(\"fivethirtyeight\")\n",
    "plt.plot(lag_acf)\n",
    "plt.axhline( y = 0, linestyle = \"--\", color = \"gray\")\n",
    "plt.axhline( y= -1.96/np.sqrt(len(train_log_diff.dropna())), linestyle = \"--\", color = \"gray\")\n",
    "plt.axhline(y = 1.96 /np.sqrt(len(train_log_diff.dropna())), linestyle = \"--\", color = \"gray\")\n",
    "plt.title(\"Autocorrelation Function\")\n",
    "plt.show()\n",
    "# PACF\n",
    "plt.figure(figsize = (15,8))\n",
    "plt.plot(lag_pacf)\n",
    "plt.axhline(y = 0, linestyle = \"--\", color = \"gray\")\n",
    "plt.axhline(y = -1.96/np.sqrt(len(train_log_diff.dropna())), linestyle = \"--\", color = \"gray\")\n",
    "plt.axhline( y = 1.96/np.sqrt(len(train_log_diff.dropna())), linestyle = \"--\", color = \"gray\")\n",
    "plt.title(\"Partial Autocorrelation Function\")\n",
    "plt.show()"
   ]
  },
  {
   "cell_type": "markdown",
   "metadata": {},
   "source": [
    "**AR Model**"
   ]
  },
  {
   "cell_type": "code",
   "execution_count": null,
   "metadata": {},
   "outputs": [],
   "source": [
    "from statsmodels.tsa.arima_model import ARIMA\n",
    "plt.figure(figsize = (15,8))\n",
    "model = ARIMA(Train_log, order = (2,1,0))  #here q value is zero since it is just AR Model\n",
    "results_AR = model.fit(disp=-1)\n",
    "plt.plot(train_log_diff.dropna(), label = \"Original\")\n",
    "plt.plot(results_AR.fittedvalues, color = 'red', label = 'Predictions')\n",
    "plt.legend(loc = 'best')\n"
   ]
  },
  {
   "cell_type": "code",
   "execution_count": null,
   "metadata": {},
   "outputs": [],
   "source": [
    "AR_predict = results_AR.predict(start=\"2014-06-25\", end=\"2014-09-25\")\n",
    "AR_predict = AR_predict.cumsum().shift().fillna(0)\n",
    "AR_predict1 = pd.Series(np.ones(valid.shape[0])* np.log(valid['Count'])[0], index = valid.index)\n",
    "AR_predict1=AR_predict1.add(AR_predict,fill_value=0)\n",
    "AR_predict = np.exp(AR_predict1)"
   ]
  },
  {
   "cell_type": "code",
   "execution_count": null,
   "metadata": {},
   "outputs": [],
   "source": [
    "plt.figure(figsize = (15,8))\n",
    "plt.plot(valid['Count'], label = \"Validation\")\n",
    "plt.plot(AR_predict, color = \"red\", label = \"Predict\")\n",
    "plt.legend(loc = \"best\")\n",
    "plt.title('RMSE: %.4f'% (np.sqrt(np.dot(AR_predict, valid['Count']))/valid.shape[0]))\n",
    "plt.show()"
   ]
  },
  {
   "cell_type": "markdown",
   "metadata": {},
   "source": [
    "** Moving Average Model**"
   ]
  },
  {
   "cell_type": "code",
   "execution_count": null,
   "metadata": {},
   "outputs": [],
   "source": [
    "plt.figure(figsize = (15,8))\n",
    "model = ARIMA(Train_log, order = (0,1,2)) # here the p value is 0 since it is moving average model\n",
    "results_MA = model.fit(disp = -1)\n",
    "plt.plot(train_log_diff.dropna(), label = \"Original\")\n",
    "plt.plot(results_MA.fittedvalues, color = \"red\", label = \"Prediction\")\n",
    "plt.legend(loc = \"best\")"
   ]
  },
  {
   "cell_type": "code",
   "execution_count": null,
   "metadata": {},
   "outputs": [],
   "source": [
    "MA_predict = results_MA.predict(start=\"2014-06-25\", end=\"2014-09-25\")\n",
    "MA_predict=MA_predict.cumsum().shift().fillna(0)\n",
    "MA_predict1=pd.Series(np.ones(valid.shape[0]) * np.log(valid['Count'])[0], index = valid.index)\n",
    "MA_predict1=MA_predict1.add(MA_predict,fill_value=0)\n",
    "MA_predict = np.exp(MA_predict1)"
   ]
  },
  {
   "cell_type": "code",
   "execution_count": null,
   "metadata": {},
   "outputs": [],
   "source": [
    "plt.figure(figsize = (15,8))\n",
    "plt.plot(valid['Count'], label = \"Valid\")\n",
    "plt.plot(MA_predict, color = 'red', label = \"Predict\")\n",
    "plt.legend(loc= 'best')\n",
    "plt.title('RMSE: %.4f'% (np.sqrt(np.dot(MA_predict, valid['Count']))/valid.shape[0]))\n",
    "plt.show()"
   ]
  },
  {
   "cell_type": "markdown",
   "metadata": {},
   "source": [
    "**Combined Model**"
   ]
  },
  {
   "cell_type": "code",
   "execution_count": null,
   "metadata": {},
   "outputs": [],
   "source": [
    "plt.figure(figsize = (16,8))\n",
    "model = ARIMA(Train_log, order=(2, 1, 2))  \n",
    "results_ARIMA = model.fit(disp=-1)  \n",
    "plt.plot(train_log_diff.dropna(),  label='Original')\n",
    "plt.plot(results_ARIMA.fittedvalues, color='red', label='Predicted')\n",
    "plt.legend(loc='best')\n",
    "plt.show()"
   ]
  },
  {
   "cell_type": "markdown",
   "metadata": {},
   "source": [
    "**Function to scale model to original scale**"
   ]
  },
  {
   "cell_type": "code",
   "execution_count": null,
   "metadata": {},
   "outputs": [],
   "source": [
    "\n",
    "def check_prediction_diff(predict_diff, given_set):\n",
    "    predict_diff= predict_diff.cumsum().shift().fillna(0)\n",
    "    predict_base = pd.Series(np.ones(given_set.shape[0]) * np.log(given_set['Count'])[0], index = given_set.index)\n",
    "    predict_log = predict_base.add(predict_diff,fill_value=0)\n",
    "    predict = np.exp(predict_log)\n",
    "    \n",
    "    plt.plot(given_set['Count'], label = \"Given set\")\n",
    "    plt.plot(predict, color = 'red', label = \"Predict\")\n",
    "    plt.legend(loc= 'best')\n",
    "    plt.title('RMSE: %.4f'% (np.sqrt(np.dot(predict, given_set['Count']))/given_set.shape[0]))\n",
    "    plt.show()"
   ]
  },
  {
   "cell_type": "code",
   "execution_count": null,
   "metadata": {},
   "outputs": [],
   "source": [
    "def check_prediction_log(predict_log, given_set):\n",
    "    predict = np.exp(predict_log)\n",
    "    \n",
    "    plt.plot(given_set['Count'], label = \"Given set\")\n",
    "    plt.plot(predict, color = 'red', label = \"Predict\")\n",
    "    plt.legend(loc= 'best')\n",
    "    plt.title('RMSE: %.4f'% (np.sqrt(np.dot(predict, given_set['Count']))/given_set.shape[0]))\n",
    "    plt.show()"
   ]
  },
  {
   "cell_type": "code",
   "execution_count": null,
   "metadata": {},
   "outputs": [],
   "source": [
    "ARIMA_predict_diff=results_ARIMA.predict(start=\"2014-06-25\", end=\"2014-09-25\")"
   ]
  },
  {
   "cell_type": "code",
   "execution_count": null,
   "metadata": {},
   "outputs": [],
   "source": [
    "plt.figure(figsize = (16,8))\n",
    "check_prediction_diff(ARIMA_predict_diff, valid)"
   ]
  },
  {
   "cell_type": "markdown",
   "metadata": {},
   "source": [
    "### SARIMAX Model"
   ]
  },
  {
   "cell_type": "code",
   "execution_count": null,
   "metadata": {},
   "outputs": [],
   "source": [
    "import statsmodels.api as sm"
   ]
  },
  {
   "cell_type": "code",
   "execution_count": null,
   "metadata": {},
   "outputs": [],
   "source": [
    "y_hat_avg = valid.copy()\n",
    "fit1 = sm.tsa.statespace.SARIMAX(Train.Count, order = (2,1,4), seasonal_order =(0,1,1,7)).fit()\n",
    "y_hat_avg['SARIMA'] = fit1.predict(start=\"2014-6-25\", end=\"2014-9-25\", dynamic=True)\n",
    "plt.figure(figsize=(16,8))\n",
    "plt.plot(Train['Count'], label = \"Train\")\n",
    "plt.plot(valid.Count, label = \"Validation\")\n",
    "plt.plot(y_hat_avg['SARIMA'], label =\"SARIMA\")\n",
    "plt.legend(loc = \"best\")\n",
    "plt.title(\"SARIMAX Model\")"
   ]
  },
  {
   "cell_type": "code",
   "execution_count": null,
   "metadata": {},
   "outputs": [],
   "source": [
    "rms = sqrt(mean_squared_error(valid.Count, y_hat_avg.SARIMA))\n",
    "print(rms)"
   ]
  },
  {
   "cell_type": "markdown",
   "metadata": {},
   "source": [
    "**Covert to Hourly Predictions**"
   ]
  },
  {
   "cell_type": "code",
   "execution_count": null,
   "metadata": {},
   "outputs": [],
   "source": [
    "predict = fit1.predict(start=\"2014-9-26\", end=\"2015-4-26\", dynamic=True)"
   ]
  },
  {
   "cell_type": "code",
   "execution_count": null,
   "metadata": {},
   "outputs": [],
   "source": [
    "test['prediction']=predict"
   ]
  },
  {
   "cell_type": "code",
   "execution_count": null,
   "metadata": {},
   "outputs": [],
   "source": [
    "#Merge test and test_original on day,month and year\n",
    "merge = pd.merge(test,test_original, on = ('day', 'month', 'year'), how = 'left')\n",
    "merge['Hour'] = merge['Hour_y']\n",
    "\n",
    "#Predicting by merging merge and temp2\n",
    "prediction = pd.merge(merge, temp2, on = 'Hour', how = 'left')\n",
    "\n",
    "#Converting the ratio to original scale\n",
    "prediction['Count'] = prediction['prediction'] * prediction['ratio'] * 24"
   ]
  },
  {
   "cell_type": "code",
   "execution_count": null,
   "metadata": {},
   "outputs": [],
   "source": [
    "prediction['ID']=prediction['ID_y']\n",
    "submission=prediction.drop(['day','Hour','ratio','prediction', 'ID_x', 'ID_y'],axis=1)\n",
    "\n",
    "# Converting the final submission to csv format\n",
    "pd.DataFrame(submission, columns=['ID','Count']).to_csv('SARIMAX.csv')"
   ]
  },
  {
   "cell_type": "code",
   "execution_count": null,
   "metadata": {},
   "outputs": [],
   "source": []
  },
  {
   "cell_type": "code",
   "execution_count": null,
   "metadata": {},
   "outputs": [],
   "source": []
  }
 ],
 "metadata": {
  "kernelspec": {
   "display_name": "Python 3",
   "language": "python",
   "name": "python3"
  },
  "language_info": {
   "codemirror_mode": {
    "name": "ipython",
    "version": 3
   },
   "file_extension": ".py",
   "mimetype": "text/x-python",
   "name": "python",
   "nbconvert_exporter": "python",
   "pygments_lexer": "ipython3",
   "version": "3.5.2"
  },
  "varInspector": {
   "cols": {
    "lenName": 16,
    "lenType": 16,
    "lenVar": 40
   },
   "kernels_config": {
    "python": {
     "delete_cmd_postfix": "",
     "delete_cmd_prefix": "del ",
     "library": "var_list.py",
     "varRefreshCmd": "print(var_dic_list())"
    },
    "r": {
     "delete_cmd_postfix": ") ",
     "delete_cmd_prefix": "rm(",
     "library": "var_list.r",
     "varRefreshCmd": "cat(var_dic_list()) "
    }
   },
   "types_to_exclude": [
    "module",
    "function",
    "builtin_function_or_method",
    "instance",
    "_Feature"
   ],
   "window_display": false
  }
 },
 "nbformat": 4,
 "nbformat_minor": 2
}
